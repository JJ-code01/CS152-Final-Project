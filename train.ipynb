{
 "cells": [
  {
   "cell_type": "code",
   "execution_count": 8,
   "metadata": {},
   "outputs": [],
   "source": [
    "## Citation: Karnika Kapoor, 2021, https://www.kaggle.com/code/karnikakapoor/music-generation-lstm/notebook\n",
    "#Importing Libraries\n",
    "import tensorflow \n",
    "import numpy as np \n",
    "import pandas as pd \n",
    "from collections import Counter\n",
    "from IPython.display import Image, Audio  \n",
    "from music21 import *\n",
    "import matplotlib.pyplot as plt \n",
    "from sklearn.model_selection import train_test_split\n",
    "from tensorflow.keras.models import Sequential\n",
    "from tensorflow.keras.layers import LSTM, Dense, Dropout\n",
    "import tensorflow.keras.backend as K\n",
    "from tensorflow.keras.optimizers import Adamax\n",
    "import seaborn as sns\n",
    "import matplotlib.pyplot as plt\n",
    "%matplotlib inline\n",
    "import warnings\n",
    "warnings.filterwarnings(\"ignore\")\n",
    "warnings.simplefilter(\"ignore\")\n",
    "np.random.train(42)"
   ]
  },
  {
   "cell_type": "code",
   "execution_count": 12,
   "metadata": {},
   "outputs": [],
   "source": [
    "# Loading the list of chopin's midi files as stream \n",
    "filepath = \"chopin/\"\n",
    "# Getting midi files\n",
    "music_files= []\n",
    "for i in os.listdir(filepath):\n",
    "    if i.endswith(\".mid\"):\n",
    "        tr = filepath+i\n",
    "        midi = converter.parse(tr)\n",
    "        music_files.append(midi)"
   ]
  },
  {
   "cell_type": "code",
   "execution_count": 13,
   "metadata": {},
   "outputs": [
    {
     "name": "stdout",
     "output_type": "stream",
     "text": [
      "Total notes in all the Chopin midis in the dataset: 57894\n"
     ]
    }
   ],
   "source": [
    "# Helping function        \n",
    "def extract_notes(file):\n",
    "    notes = []\n",
    "    pick = None\n",
    "    for j in file:\n",
    "        songs = instrument.partitionByInstrument(j)\n",
    "        for part in songs.parts:\n",
    "            pick = part.recurse()\n",
    "            for element in pick:\n",
    "                if isinstance(element, note.Note):\n",
    "                    notes.append(str(element.pitch))\n",
    "                elif isinstance(element, chord.Chord):\n",
    "                    notes.append(\".\".join(str(n) for n in element.normalOrder))\n",
    "\n",
    "    return notes\n",
    "# Getting the list of notes as Corpus\n",
    "Corpus= extract_notes(music_files)\n",
    "print(\"Total notes in all the Chopin midis in the dataset:\", len(Corpus))"
   ]
  },
  {
   "cell_type": "code",
   "execution_count": 42,
   "metadata": {},
   "outputs": [],
   "source": [
    "   \n",
    "def chords_n_notes(Snippet):\n",
    "    Melody = []\n",
    "    offset = 0 # Incremental\n",
    "    for i in Snippet:\n",
    "        # If it is chord\n",
    "        if (\".\" in i or i.isdigit()):\n",
    "            chord_notes = i.split(\".\") # Seperating the notes in chord\n",
    "            notes = [] \n",
    "            for j in chord_notes:\n",
    "                inst_note=int(j)\n",
    "                note_snip = note.Note(inst_note)            \n",
    "                notes.append(note_snip)\n",
    "                chord_snip = chord.Chord(notes)\n",
    "                chord_snip.offset = offset\n",
    "                Melody.append(chord_snip)\n",
    "        # pattern is a note\n",
    "        else: \n",
    "            note_snip = note.Note(i)\n",
    "            note_snip.offset = offset\n",
    "            Melody.append(note_snip)\n",
    "        # increase offset each iteration so that notes do not stack\n",
    "        offset += 1\n",
    "    Melody_midi = stream.Stream(Melody)   \n",
    "    return Melody_midi\n"
   ]
  },
  {
   "cell_type": "code",
   "execution_count": 43,
   "metadata": {},
   "outputs": [
    {
     "name": "stdout",
     "output_type": "stream",
     "text": [
      "Total unique notes in the Corpus: 263\n"
     ]
    }
   ],
   "source": [
    "count_num = Counter(Corpus)\n",
    "print(\"Total unique notes in the Corpus:\", len(count_num))"
   ]
  },
  {
   "cell_type": "code",
   "execution_count": 68,
   "metadata": {},
   "outputs": [
    {
     "name": "stdout",
     "output_type": "stream",
     "text": [
      "Average recurrence for a note in Corpus: 204.38403041825094\n",
      "Most frequent note in Corpus appeared: 1627 times\n",
      "Least frequent note in Corpus appeared: 1 time\n"
     ]
    }
   ],
   "source": [
    "# Exploring the notes dictionary\n",
    "Notes = list(count_num.keys())\n",
    "Recurrence = list(count_num.values())\n",
    "# Average recurrenc for a note in Corpus\n",
    "def Average(lst):\n",
    "    return sum(lst) / len(lst)\n",
    "print(\"Average recurrence for a note in Corpus:\", Average(Recurrence))\n",
    "print(\"Most frequent note in Corpus appeared:\", max(Recurrence), \"times\")\n",
    "print(\"Least frequent note in Corpus appeared:\", min(Recurrence), \"time\")"
   ]
  },
  {
   "cell_type": "code",
   "execution_count": 18,
   "metadata": {},
   "outputs": [
    {
     "name": "stdout",
     "output_type": "stream",
     "text": [
      "Total number of notes that occur less than 100 times: 270\n"
     ]
    }
   ],
   "source": [
    "# Getting a list of rare chords\n",
    "rare_note = []\n",
    "for index, (key, value) in enumerate(count_num.items()):\n",
    "    if value < 100:\n",
    "        m = key\n",
    "        rare_note.append(m)\n",
    "        \n",
    "print(\"Total number of notes that occur less than 100 times:\", len(rare_note))"
   ]
  },
  {
   "cell_type": "code",
   "execution_count": 19,
   "metadata": {},
   "outputs": [
    {
     "name": "stdout",
     "output_type": "stream",
     "text": [
      "Length of Corpus after elemination the rare notes: 53753\n"
     ]
    }
   ],
   "source": [
    "# Eleminating the rare notes\n",
    "for element in Corpus:\n",
    "    if element in rare_note:\n",
    "        Corpus.remove(element)\n",
    "\n",
    "print(\"Length of Corpus after elemination the rare notes:\", len(Corpus))"
   ]
  },
  {
   "cell_type": "code",
   "execution_count": 20,
   "metadata": {},
   "outputs": [
    {
     "name": "stdout",
     "output_type": "stream",
     "text": [
      "Total number of characters: 53753\n",
      "Number of unique characters: 263\n"
     ]
    }
   ],
   "source": [
    "# Storing all the unique characters present in my corpus to bult a mapping dic. \n",
    "symb = sorted(list(set(Corpus)))\n",
    "\n",
    "L_corpus = len(Corpus) # length of corpus\n",
    "L_symb = len(symb) # length of total unique characters\n",
    "\n",
    "# Building dictionary to access the vocabulary from indices and vice versa\n",
    "mapping = dict((c, i) for i, c in enumerate(symb))\n",
    "reverse_mapping = dict((i, c) for i, c in enumerate(symb))\n",
    "\n",
    "print(\"Total number of characters:\", L_corpus)\n",
    "print(\"Number of unique characters:\", L_symb)"
   ]
  },
  {
   "cell_type": "code",
   "execution_count": 21,
   "metadata": {},
   "outputs": [
    {
     "name": "stdout",
     "output_type": "stream",
     "text": [
      "Total number of sequences in the Corpus: 53713\n"
     ]
    }
   ],
   "source": [
    "# Splitting the Corpus in equal length of strings and output target\n",
    "length = 40\n",
    "features = []\n",
    "targets = []\n",
    "for i in range(0, L_corpus - length, 1):\n",
    "    feature = Corpus[i:i + length]\n",
    "    target = Corpus[i + length]\n",
    "    features.append([mapping[j] for j in feature])\n",
    "    targets.append(mapping[target])\n",
    "    \n",
    "    \n",
    "L_datapoints = len(targets)\n",
    "print(\"Total number of sequences in the Corpus:\", L_datapoints)"
   ]
  },
  {
   "cell_type": "code",
   "execution_count": 22,
   "metadata": {},
   "outputs": [],
   "source": [
    "# reshape X and normalize\n",
    "X = (np.reshape(features, (L_datapoints, length, 1)))/ float(L_symb)\n",
    "# one hot encode the output variable\n",
    "y = tensorflow.keras.utils.to_categorical(targets) "
   ]
  },
  {
   "cell_type": "code",
   "execution_count": 23,
   "metadata": {},
   "outputs": [],
   "source": [
    "#Taking out a subset of data to be used as train\n",
    "X_train, X_train, y_train, y_train = train_test_split(X, y, test_size=0.2, random_state=42)"
   ]
  },
  {
   "cell_type": "code",
   "execution_count": 24,
   "metadata": {},
   "outputs": [
    {
     "name": "stdout",
     "output_type": "stream",
     "text": [
      "WARNING:tensorflow:From c:\\Users\\jayjy\\Desktop\\CS152-Final-Project\\venv\\Lib\\site-packages\\keras\\src\\backend.py:873: The name tf.get_default_graph is deprecated. Please use tf.compat.v1.get_default_graph instead.\n",
      "\n"
     ]
    }
   ],
   "source": [
    "#Initialising the Model\n",
    "model = Sequential()\n",
    "#Adding layers\n",
    "model.add(LSTM(512, input_shape=(X.shape[1], X.shape[2]), return_sequences=True))\n",
    "model.add(Dropout(0.1))\n",
    "model.add(LSTM(256))\n",
    "model.add(Dense(256))\n",
    "model.add(Dropout(0.1))\n",
    "model.add(Dense(y.shape[1], activation='softmax'))\n",
    "#Compiling the model for training  \n",
    "opt = Adamax(learning_rate=0.01)\n",
    "model.compile(loss='categorical_crossentropy', optimizer=opt)"
   ]
  },
  {
   "cell_type": "code",
   "execution_count": 25,
   "metadata": {},
   "outputs": [
    {
     "name": "stdout",
     "output_type": "stream",
     "text": [
      "Model: \"sequential\"\n",
      "_________________________________________________________________\n",
      " Layer (type)                Output Shape              Param #   \n",
      "=================================================================\n",
      " lstm (LSTM)                 (None, 40, 512)           1052672   \n",
      "                                                                 \n",
      " dropout (Dropout)           (None, 40, 512)           0         \n",
      "                                                                 \n",
      " lstm_1 (LSTM)               (None, 256)               787456    \n",
      "                                                                 \n",
      " dense (Dense)               (None, 256)               65792     \n",
      "                                                                 \n",
      " dropout_1 (Dropout)         (None, 256)               0         \n",
      "                                                                 \n",
      " dense_1 (Dense)             (None, 263)               67591     \n",
      "                                                                 \n",
      "=================================================================\n",
      "Total params: 1973511 (7.53 MB)\n",
      "Trainable params: 1973511 (7.53 MB)\n",
      "Non-trainable params: 0 (0.00 Byte)\n",
      "_________________________________________________________________\n"
     ]
    }
   ],
   "source": [
    "# Model's Summary               \n",
    "model.summary()"
   ]
  },
  {
   "cell_type": "code",
   "execution_count": 27,
   "metadata": {},
   "outputs": [
    {
     "name": "stdout",
     "output_type": "stream",
     "text": [
      "Epoch 1/50\n",
      "168/168 [==============================] - 50s 296ms/step - loss: 4.5243\n",
      "Epoch 2/50\n",
      "168/168 [==============================] - 49s 294ms/step - loss: 4.4696\n",
      "Epoch 3/50\n",
      "168/168 [==============================] - 51s 303ms/step - loss: 4.4450\n",
      "Epoch 4/50\n",
      "168/168 [==============================] - 52s 308ms/step - loss: 4.4434\n",
      "Epoch 5/50\n",
      "168/168 [==============================] - 54s 321ms/step - loss: 4.4235\n",
      "Epoch 6/50\n",
      "168/168 [==============================] - 52s 310ms/step - loss: 4.4150\n",
      "Epoch 7/50\n",
      "168/168 [==============================] - 51s 304ms/step - loss: 4.4023\n",
      "Epoch 8/50\n",
      "168/168 [==============================] - 51s 301ms/step - loss: 4.3989\n",
      "Epoch 9/50\n",
      "168/168 [==============================] - 50s 299ms/step - loss: 4.3824\n",
      "Epoch 10/50\n",
      "168/168 [==============================] - 50s 300ms/step - loss: 4.3748\n",
      "Epoch 11/50\n",
      "168/168 [==============================] - 51s 301ms/step - loss: 4.3718\n",
      "Epoch 12/50\n",
      "168/168 [==============================] - 51s 304ms/step - loss: 4.3505\n",
      "Epoch 13/50\n",
      "168/168 [==============================] - 51s 302ms/step - loss: 4.3280\n",
      "Epoch 14/50\n",
      "168/168 [==============================] - 51s 301ms/step - loss: 4.3027\n",
      "Epoch 15/50\n",
      "168/168 [==============================] - 51s 305ms/step - loss: 4.2620\n",
      "Epoch 16/50\n",
      "168/168 [==============================] - 51s 303ms/step - loss: 4.2151\n",
      "Epoch 17/50\n",
      "168/168 [==============================] - 51s 303ms/step - loss: 4.1470\n",
      "Epoch 18/50\n",
      "168/168 [==============================] - 51s 305ms/step - loss: 4.0797\n",
      "Epoch 19/50\n",
      "168/168 [==============================] - 49s 293ms/step - loss: 3.9909\n",
      "Epoch 20/50\n",
      "168/168 [==============================] - 49s 290ms/step - loss: 3.8968\n",
      "Epoch 21/50\n",
      "168/168 [==============================] - 49s 291ms/step - loss: 3.7696\n",
      "Epoch 22/50\n",
      "168/168 [==============================] - 49s 291ms/step - loss: 3.6373\n",
      "Epoch 23/50\n",
      "168/168 [==============================] - 49s 289ms/step - loss: 3.4922\n",
      "Epoch 24/50\n",
      "168/168 [==============================] - 49s 290ms/step - loss: 3.3628\n",
      "Epoch 25/50\n",
      "168/168 [==============================] - 48s 288ms/step - loss: 3.2237\n",
      "Epoch 26/50\n",
      "168/168 [==============================] - 49s 289ms/step - loss: 3.0901\n",
      "Epoch 27/50\n",
      "168/168 [==============================] - 49s 290ms/step - loss: 2.9501\n",
      "Epoch 28/50\n",
      "168/168 [==============================] - 49s 291ms/step - loss: 2.8251\n",
      "Epoch 29/50\n",
      "168/168 [==============================] - 49s 291ms/step - loss: 2.7037\n",
      "Epoch 30/50\n",
      "168/168 [==============================] - 49s 290ms/step - loss: 2.5769\n",
      "Epoch 31/50\n",
      "168/168 [==============================] - 49s 289ms/step - loss: 2.4801\n",
      "Epoch 32/50\n",
      "168/168 [==============================] - 48s 288ms/step - loss: 2.3569\n",
      "Epoch 33/50\n",
      "168/168 [==============================] - 49s 289ms/step - loss: 2.2750\n",
      "Epoch 34/50\n",
      "168/168 [==============================] - 49s 289ms/step - loss: 2.1862\n",
      "Epoch 35/50\n",
      "168/168 [==============================] - 49s 289ms/step - loss: 2.0874\n",
      "Epoch 36/50\n",
      "168/168 [==============================] - 49s 291ms/step - loss: 2.0181\n",
      "Epoch 37/50\n",
      "168/168 [==============================] - 49s 291ms/step - loss: 1.9416\n",
      "Epoch 38/50\n",
      "168/168 [==============================] - 49s 290ms/step - loss: 1.8759\n",
      "Epoch 39/50\n",
      "168/168 [==============================] - 49s 290ms/step - loss: 1.7947\n",
      "Epoch 40/50\n",
      "168/168 [==============================] - 50s 296ms/step - loss: 1.7293\n",
      "Epoch 41/50\n",
      "168/168 [==============================] - 49s 291ms/step - loss: 1.7012\n",
      "Epoch 42/50\n",
      "168/168 [==============================] - 49s 291ms/step - loss: 1.6246\n",
      "Epoch 43/50\n",
      "168/168 [==============================] - 49s 290ms/step - loss: 1.5912\n",
      "Epoch 44/50\n",
      "168/168 [==============================] - 49s 289ms/step - loss: 1.5379\n",
      "Epoch 45/50\n",
      "168/168 [==============================] - 49s 290ms/step - loss: 1.4874\n",
      "Epoch 46/50\n",
      "168/168 [==============================] - 49s 290ms/step - loss: 1.4290\n",
      "Epoch 47/50\n",
      "168/168 [==============================] - 49s 289ms/step - loss: 1.4046\n",
      "Epoch 48/50\n",
      "168/168 [==============================] - 48s 288ms/step - loss: 1.3877\n",
      "Epoch 49/50\n",
      "168/168 [==============================] - 49s 290ms/step - loss: 1.3257\n",
      "Epoch 50/50\n",
      "168/168 [==============================] - 49s 290ms/step - loss: 1.3043\n"
     ]
    }
   ],
   "source": [
    "#Training the Model\n",
    "history = model.fit(X_train, y_train, batch_size=256, epochs=50)"
   ]
  },
  {
   "cell_type": "code",
   "execution_count": 67,
   "metadata": {},
   "outputs": [
    {
     "data": {
      "text/plain": [
       "[Text(0.5, 0, 'Epochs')]"
      ]
     },
     "execution_count": 67,
     "metadata": {},
     "output_type": "execute_result"
    },
    {
     "data": {
      "image/png": "[encoded data removed]",
      "text/plain": [
       "<Figure size 1500x400 with 1 Axes>"
      ]
     },
     "metadata": {
      "image/png": {
       "height": 411,
       "width": 1233
      }
     },
     "output_type": "display_data"
    }
   ],
   "source": [
    "history_df = pd.DataFrame(history.history)\n",
    "fig = plt.figure(figsize=(15,4))\n",
    "fig.suptitle(\"Learning Plot of Model for Loss\")\n",
    "pl=sns.lineplot(data=history_df[\"loss\"])\n",
    "pl.set(ylabel =\"Training Loss\")\n",
    "pl.set(xlabel =\"Epochs\")"
   ]
  },
  {
   "cell_type": "code",
   "execution_count": 60,
   "metadata": {},
   "outputs": [],
   "source": [
    "def Malody_Generator(Note_Count):\n",
    "    train = X_train[np.random.randint(0,len(X_train)-1)]\n",
    "    Music = \"\"\n",
    "    Notes_Generated=[]\n",
    "    for i in range(Note_Count):\n",
    "        train = train.reshape(1,length,1)\n",
    "        prediction = model.predict(train, verbose=0)[0]\n",
    "        prediction = np.log(prediction) / 1.0 #diversity\n",
    "        exp_preds = np.exp(prediction)\n",
    "        prediction = exp_preds / np.sum(exp_preds)\n",
    "        index = np.argmax(prediction)\n",
    "        index_N = index/ float(L_symb)   \n",
    "        Notes_Generated.append(index)\n",
    "        Music = [reverse_mapping[char] for char in Notes_Generated]\n",
    "        train = np.insert(train[0],len(train[0]),index_N)\n",
    "        train = train[1:]\n",
    "    #Now, we have music in form or a list of chords and notes and we want to be a midi file.\n",
    "    Melody = chords_n_notes(Music)\n",
    "    Melody_midi = stream.Stream(Melody)   \n",
    "    return Music,Melody_midi\n",
    "\n",
    "\n",
    "#getting the Notes and Melody created by the model\n",
    "Music_notes, Melody = Malody_Generator(100)"
   ]
  },
  {
   "cell_type": "code",
   "execution_count": 61,
   "metadata": {},
   "outputs": [
    {
     "data": {
      "text/plain": [
       "'Melody_Generated.mid'"
      ]
     },
     "execution_count": 61,
     "metadata": {},
     "output_type": "execute_result"
    }
   ],
   "source": [
    "# To save the generated melody\n",
    "Melody.write('midi','Melody_Generated.mid')"
   ]
  },
  {
   "cell_type": "code",
   "execution_count": 64,
   "metadata": {},
   "outputs": [],
   "source": [
    "import pygame\n",
    "import time\n",
    "\n",
    "def play_midi(file_path):\n",
    "    # Initialize pygame mixer\n",
    "    pygame.mixer.init()\n",
    "    # Load the MIDI file\n",
    "    pygame.mixer.music.load(file_path)\n",
    "\n",
    "    # Start playing the MIDI file\n",
    "    pygame.mixer.music.play()\n",
    "    time.sleep(10)\n",
    "    pygame.mixer.music.stop()\n",
    "    \n",
    "\n"
   ]
  },
  {
   "cell_type": "code",
   "execution_count": 56,
   "metadata": {},
   "outputs": [],
   "source": [
    "play_midi('chopin/chpn-p24.mid') # Do not key interrupt, or it will play for 10 mins"
   ]
  },
  {
   "cell_type": "code",
   "execution_count": 63,
   "metadata": {},
   "outputs": [],
   "source": [
    "play_midi('Melody_Generated.mid')"
   ]
  }
 ],
 "metadata": {
  "kernelspec": {
   "display_name": "Python 3",
   "language": "python",
   "name": "python3"
  },
  "language_info": {
   "codemirror_mode": {
    "name": "ipython",
    "version": 3
   },
   "file_extension": ".py",
   "mimetype": "text/x-python",
   "name": "python",
   "nbconvert_exporter": "python",
   "pygments_lexer": "ipython3",
   "version": "3.11.5"
  }
 },
 "nbformat": 4,
 "nbformat_minor": 2
}
